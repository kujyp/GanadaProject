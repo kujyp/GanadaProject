{
 "cells": [
  {
   "cell_type": "code",
   "execution_count": 4,
   "metadata": {
    "collapsed": true
   },
   "outputs": [],
   "source": [
    "from DataConverter.inputdata import input_snd_mfcc_data\n",
    "from DataConverter.load.snd_loader import load_allsnd_data\n",
    "import IPython.display\n",
    "from DataConverter.visualize.visualizer_numpy_sound import plot_sound\n",
    "\n",
    "\n",
    "#snd_mfcc, labels = input_snd_mfcc_data(\"data\")\n",
    "snd = load_allsnd_data(\"data/ga\")\n",
    "import librosa\n",
    "y, sr = librosa.load(\"data/ga/가1.m4a\")\n",
    "\n",
    "#idx = 0\n",
    "#y = snd[idx][0]\n",
    "#sr = snd[idx][1]\n",
    "\n",
    "\n",
    "\n",
    "#plot_sound(y, sr)"
   ]
  },
  {
   "cell_type": "code",
   "execution_count": 5,
   "metadata": {},
   "outputs": [
    {
     "name": "stdout",
     "output_type": "stream",
     "text": [
      "[ 0.          0.          0.         ..., -0.00374204 -0.00306889  0.        ]\n"
     ]
    }
   ],
   "source": [
    "print(y)"
   ]
  },
  {
   "cell_type": "code",
   "execution_count": 6,
   "metadata": {},
   "outputs": [],
   "source": [
    ""
   ]
  },
  {
   "cell_type": "code",
   "execution_count": 6,
   "metadata": {},
   "outputs": [],
   "source": [
    ""
   ]
  },
  {
   "cell_type": "code",
   "execution_count": 6,
   "metadata": {},
   "outputs": [],
   "source": [
    ""
   ]
  },
  {
   "cell_type": "code",
   "execution_count": 6,
   "metadata": {},
   "outputs": [],
   "source": [
    ""
   ]
  },
  {
   "cell_type": "code",
   "execution_count": null,
   "metadata": {},
   "outputs": [],
   "source": [
    ""
   ]
  }
 ],
 "metadata": {
  "kernelspec": {
   "display_name": "Python 2",
   "language": "python",
   "name": "python2"
  },
  "language_info": {
   "codemirror_mode": {
    "name": "ipython",
    "version": 2.0
   },
   "file_extension": ".py",
   "mimetype": "text/x-python",
   "name": "python",
   "nbconvert_exporter": "python",
   "pygments_lexer": "ipython2",
   "version": "2.7.6"
  }
 },
 "nbformat": 4,
 "nbformat_minor": 0
}